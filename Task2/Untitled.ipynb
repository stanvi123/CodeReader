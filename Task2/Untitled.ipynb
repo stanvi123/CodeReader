{
 "cells": [
  {
   "cell_type": "code",
   "execution_count": 1,
   "id": "0c2de1c7",
   "metadata": {},
   "outputs": [],
   "source": [
    "import pytesseract\n",
    "from PIL import Image\n",
    "import os"
   ]
  },
  {
   "cell_type": "code",
   "execution_count": 8,
   "id": "0156488d",
   "metadata": {},
   "outputs": [],
   "source": [
    "pytesseract.pytesseract.tesseract_cmd = r'C:\\Program Files (x86)\\Tesseract-OCR\\tesseract.exe'\n"
   ]
  },
  {
   "cell_type": "code",
   "execution_count": 9,
   "id": "77d6207f",
   "metadata": {},
   "outputs": [],
   "source": [
    "def extract_text_from_image(image_path):\n",
    "    try:\n",
    "        # Open the image using PIL (Python Imaging Library)\n",
    "        image = Image.open(image_path)\n",
    "\n",
    "        # Use pytesseract to do OCR on the image\n",
    "        text = pytesseract.image_to_string(image)\n",
    "\n",
    "        return text.strip()\n",
    "    except Exception as e:\n",
    "        return str(e)"
   ]
  },
  {
   "cell_type": "code",
   "execution_count": 10,
   "id": "9d43e90e",
   "metadata": {},
   "outputs": [],
   "source": [
    "image_folder = \"C:\\\\Users\\\\dell\\\\Downloads\\\\Data\\\\Data\\\\Task2\"\n"
   ]
  },
  {
   "cell_type": "code",
   "execution_count": 11,
   "id": "38bdb817",
   "metadata": {},
   "outputs": [],
   "source": [
    "# List all image files in the folder\n",
    "image_files = [os.path.join(image_folder, filename) for filename in os.listdir(image_folder) if filename.endswith(('.jpg', '.png', '.jpeg'))]\n"
   ]
  },
  {
   "cell_type": "code",
   "execution_count": 12,
   "id": "4cf5fabc",
   "metadata": {},
   "outputs": [
    {
     "name": "stdout",
     "output_type": "stream",
     "text": [
      "Image Path: C:\\Users\\dell\\Downloads\\Data\\Data\\Task2\\1.png\n",
      "Extracted Text:\n",
      "AD HFD LIE,-EI1\n",
      "\n",
      "A- ., . _\n",
      "\n",
      "w EHP:l:IE;.-o‘?f23\n",
      "us? R2,.D.0?rrnk\n",
      "\n",
      "VIN; A\n",
      "\n",
      "Image Path: C:\\Users\\dell\\Downloads\\Data\\Data\\Task2\\2.png\n",
      "Extracted Text:\n",
      "\n",
      "\n",
      "Image Path: C:\\Users\\dell\\Downloads\\Data\\Data\\Task2\\3.png\n",
      "Extracted Text:\n",
      "ﬁkﬁwllob\n",
      "1‘ ’ ‘°\n",
      "U1 ’ \\\\ 7\n",
      "E Q\n",
      "0 ,0\n",
      "\n",
      "of all taxes) Batch No. 4;-,, H W»\n",
      "\n",
      "Image Path: C:\\Users\\dell\\Downloads\\Data\\Data\\Task2\\4.png\n",
      "Extracted Text:\n",
      "\n",
      "\n",
      "Image Path: C:\\Users\\dell\\Downloads\\Data\\Data\\Task2\\5.png\n",
      "Extracted Text:\n",
      "\"  La2',3 :L1':=1;L\n",
      "1 R!J5K1E11 .10 — “\n",
      ":up:aa,«o:~f'23, ‘3‘”w\"\"°\n",
      "\n",
      ". $   Q\n",
      "n,,gsI=‘s<z.:u.-372:3: 3 @ 5\n",
      "(lnduvve of all taxes) Batch No. ‘an H U!\n",
      "\n",
      "Image Path: C:\\Users\\dell\\Downloads\\Data\\Data\\Task2\\6.png\n",
      "Extracted Text:\n",
      "0! all taxes) Batch No. 'v»,, H ma’\n",
      "\n",
      "Image Path: C:\\Users\\dell\\Downloads\\Data\\Data\\Task2\\7.png\n",
      "Extracted Text:\n",
      "Bu HFIJ  L\n",
      "m  K5. -\"\"' K\n",
      "E‘.IlP:l'JE:x'U?/23 4“‘”\"'”b\n",
      "\n",
      "4\n",
      "\n",
      "- .£\n",
      "(lnduswe of all taxes) Batch No. «.3; H %\n",
      "\n"
     ]
    }
   ],
   "source": [
    "# Process each image and extract text\n",
    "for image_path in image_files:\n",
    "    extracted_text = extract_text_from_image(image_path)\n",
    "    \n",
    "    # Display the image path and extracted text\n",
    "    print(f\"Image Path: {image_path}\")\n",
    "    print(f\"Extracted Text:\\n{extracted_text}\\n\")"
   ]
  },
  {
   "cell_type": "code",
   "execution_count": null,
   "id": "a7ef8e6d",
   "metadata": {},
   "outputs": [],
   "source": []
  }
 ],
 "metadata": {
  "kernelspec": {
   "display_name": "Python 3 (ipykernel)",
   "language": "python",
   "name": "python3"
  },
  "language_info": {
   "codemirror_mode": {
    "name": "ipython",
    "version": 3
   },
   "file_extension": ".py",
   "mimetype": "text/x-python",
   "name": "python",
   "nbconvert_exporter": "python",
   "pygments_lexer": "ipython3",
   "version": "3.9.12"
  }
 },
 "nbformat": 4,
 "nbformat_minor": 5
}
